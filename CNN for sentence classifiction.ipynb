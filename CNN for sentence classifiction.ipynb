{
 "cells": [
  {
   "cell_type": "code",
   "execution_count": 1,
   "metadata": {},
   "outputs": [],
   "source": [
    "import numpy as np\n",
    "import pandas as pd"
   ]
  },
  {
   "cell_type": "code",
   "execution_count": 2,
   "metadata": {},
   "outputs": [
    {
     "name": "stdout",
     "output_type": "stream",
     "text": [
      "['movie-review-sentiment-analysis-kernels-only']\n"
     ]
    }
   ],
   "source": [
    "import os\n",
    "print(os.listdir(\"input\"))"
   ]
  },
  {
   "cell_type": "code",
   "execution_count": 3,
   "metadata": {},
   "outputs": [
    {
     "name": "stderr",
     "output_type": "stream",
     "text": [
      "Using TensorFlow backend.\n"
     ]
    }
   ],
   "source": [
    "import numpy as np\n",
    "import pandas as pd\n",
    "\n",
    "from sklearn.feature_extraction.text import CountVectorizer\n",
    "from sklearn.metrics import confusion_matrix, accuracy_score\n",
    "from sklearn.model_selection import train_test_split\n",
    "\n",
    "from keras.preprocessing.text import Tokenizer\n",
    "from keras.preprocessing.sequence import pad_sequences\n",
    "from keras.initializers import Constant\n",
    "from keras.models import Model\n",
    "from keras.layers import *\n",
    "from keras.utils.np_utils import to_categorical\n",
    "import re\n",
    "\n",
    "import matplotlib.pyplot as plt\n",
    "%matplotlib inline"
   ]
  },
  {
   "cell_type": "code",
   "execution_count": 4,
   "metadata": {},
   "outputs": [
    {
     "data": {
      "text/html": [
       "<div>\n",
       "<style scoped>\n",
       "    .dataframe tbody tr th:only-of-type {\n",
       "        vertical-align: middle;\n",
       "    }\n",
       "\n",
       "    .dataframe tbody tr th {\n",
       "        vertical-align: top;\n",
       "    }\n",
       "\n",
       "    .dataframe thead th {\n",
       "        text-align: right;\n",
       "    }\n",
       "</style>\n",
       "<table border=\"1\" class=\"dataframe\">\n",
       "  <thead>\n",
       "    <tr style=\"text-align: right;\">\n",
       "      <th></th>\n",
       "      <th>Phrase</th>\n",
       "      <th>Sentiment</th>\n",
       "    </tr>\n",
       "  </thead>\n",
       "  <tbody>\n",
       "    <tr>\n",
       "      <th>0</th>\n",
       "      <td>A series of escapades demonstrating the adage that what is good for the goose is also good for the gander , some of which occasionally amuses but none of which amounts to much of a story .</td>\n",
       "      <td>1</td>\n",
       "    </tr>\n",
       "    <tr>\n",
       "      <th>1</th>\n",
       "      <td>A series of escapades demonstrating the adage that what is good for the goose</td>\n",
       "      <td>2</td>\n",
       "    </tr>\n",
       "    <tr>\n",
       "      <th>2</th>\n",
       "      <td>A series</td>\n",
       "      <td>2</td>\n",
       "    </tr>\n",
       "  </tbody>\n",
       "</table>\n",
       "</div>"
      ],
      "text/plain": [
       "                                                                                                                                                                                         Phrase  \\\n",
       "0  A series of escapades demonstrating the adage that what is good for the goose is also good for the gander , some of which occasionally amuses but none of which amounts to much of a story .   \n",
       "1  A series of escapades demonstrating the adage that what is good for the goose                                                                                                                  \n",
       "2  A series                                                                                                                                                                                       \n",
       "\n",
       "   Sentiment  \n",
       "0  1          \n",
       "1  2          \n",
       "2  2          "
      ]
     },
     "execution_count": 4,
     "metadata": {},
     "output_type": "execute_result"
    }
   ],
   "source": [
    "df = pd.read_csv('input/movie-review-sentiment-analysis-kernels-only/train.tsv', delimiter='\\t')\n",
    "df = df[['Phrase', 'Sentiment']]\n",
    "\n",
    "pd.set_option('display.max_colwidth', -1)\n",
    "df.head(3)"
   ]
  },
  {
   "cell_type": "code",
   "execution_count": 5,
   "metadata": {},
   "outputs": [],
   "source": [
    "def clean_str(in_str):\n",
    "    in_str = str(in_str)\n",
    "    # replace urls with 'url'\n",
    "    in_str = re.sub(r\"(https?:\\/\\/(?:www\\.|(?!www))[a-zA-Z0-9][a-zA-Z0-9-]+[a-zA-Z0-9]\\.[^\\s]{2,}|www\\.[a-zA-Z0-9][a-zA-Z0-9-]+[a-zA-Z0-9]\\.[^\\s]{2,}|https?:\\/\\/(?:www\\.|(?!www))[a-zA-Z0-9]\\.[^\\s]{2,}|www\\.[a-zA-Z0-9]\\.[^\\s]{2,})\", \"url\", in_str)\n",
    "    in_str = re.sub(r'([^\\s\\w]|_)+', '', in_str)\n",
    "    return in_str.strip().lower()\n",
    "\n",
    "df['text'] = df['Phrase'].apply(clean_str)"
   ]
  },
  {
   "cell_type": "code",
   "execution_count": 6,
   "metadata": {},
   "outputs": [
    {
     "data": {
      "text/plain": [
       "2    79582\n",
       "3    32927\n",
       "1    27273\n",
       "4    9206 \n",
       "0    7072 \n",
       "Name: Sentiment, dtype: int64"
      ]
     },
     "execution_count": 6,
     "metadata": {},
     "output_type": "execute_result"
    }
   ],
   "source": [
    "df.Sentiment.value_counts()"
   ]
  },
  {
   "cell_type": "code",
   "execution_count": 7,
   "metadata": {},
   "outputs": [],
   "source": [
    "df_0 = df[df['Sentiment'] == 0].sample(frac=1)\n",
    "df_1 = df[df['Sentiment'] == 1].sample(frac=1)\n",
    "df_2 = df[df['Sentiment'] == 2].sample(frac=1)\n",
    "df_3 = df[df['Sentiment'] == 3].sample(frac=1)\n",
    "df_4 = df[df['Sentiment'] == 4].sample(frac=1)\n",
    "\n",
    "# we want a balanced set for training against - there are 7072 `0` examples\n",
    "sample_size = 7072\n",
    "\n",
    "data = pd.concat([df_0.head(sample_size), df_1.head(sample_size), df_2.head(sample_size), df_3.head(sample_size), df_4.head(sample_size)]).sample(frac=1)"
   ]
  },
  {
   "cell_type": "code",
   "execution_count": 8,
   "metadata": {},
   "outputs": [
    {
     "name": "stdout",
     "output_type": "stream",
     "text": [
      "mean length of sentence: 9.102997737556562\n",
      "max length of sentence: 52\n",
      "std dev length of sentence: 8.01207564931148\n"
     ]
    }
   ],
   "source": [
    "data['l'] = data['Phrase'].apply(lambda x: len(str(x).split(' ')))\n",
    "print(\"mean length of sentence: \" + str(data.l.mean()))\n",
    "print(\"max length of sentence: \" + str(data.l.max()))\n",
    "print(\"std dev length of sentence: \" + str(data.l.std()))"
   ]
  },
  {
   "cell_type": "code",
   "execution_count": 9,
   "metadata": {},
   "outputs": [
    {
     "name": "stdout",
     "output_type": "stream",
     "text": [
      "test set size 3536\n"
     ]
    }
   ],
   "source": [
    "sequence_length = 52\n",
    "max_features = 20000 # this is the number of words we care about\n",
    "\n",
    "tokenizer = Tokenizer(num_words=max_features, split=' ', oov_token='<unw>')\n",
    "tokenizer.fit_on_texts(data['Phrase'].values)\n",
    "\n",
    "# this takes our sentences and replaces each word with an integer\n",
    "X = tokenizer.texts_to_sequences(data['Phrase'].values)\n",
    "\n",
    "# we then pad the sequences so they're all the same length (sequence_length)\n",
    "X = pad_sequences(X, sequence_length)\n",
    "\n",
    "y = pd.get_dummies(data['Sentiment']).values\n",
    "\n",
    "# where there isn't a test set, Kim keeps back 10% of the data for testing, I'm going to do the same since we have an ok amount to play with\n",
    "X_train, X_test, y_train, y_test = train_test_split(X, y, test_size=0.1)\n",
    "\n",
    "print(\"test set size \" + str(len(X_test)))"
   ]
  },
  {
   "cell_type": "markdown",
   "metadata": {},
   "source": [
    "# Model1 : Random embeddings"
   ]
  },
  {
   "cell_type": "code",
   "execution_count": 10,
   "metadata": {},
   "outputs": [
    {
     "name": "stdout",
     "output_type": "stream",
     "text": [
      "WARNING:tensorflow:From D:\\Anaconda3\\lib\\site-packages\\tensorflow\\python\\framework\\op_def_library.py:263: colocate_with (from tensorflow.python.framework.ops) is deprecated and will be removed in a future version.\n",
      "Instructions for updating:\n",
      "Colocations handled automatically by placer.\n",
      "WARNING:tensorflow:From D:\\Anaconda3\\lib\\site-packages\\keras\\backend\\tensorflow_backend.py:3445: calling dropout (from tensorflow.python.ops.nn_ops) with keep_prob is deprecated and will be removed in a future version.\n",
      "Instructions for updating:\n",
      "Please use `rate` instead of `keep_prob`. Rate should be set to `rate = 1 - keep_prob`.\n"
     ]
    }
   ],
   "source": [
    "embedding_dim = 200 # Kim uses 300 here\n",
    "num_filters = 100\n",
    "\n",
    "inputs = Input(shape=(sequence_length,), dtype='int32')\n",
    "\n",
    "# use a random embedding for the text\n",
    "embedding_layer = Embedding(input_dim=max_features, output_dim=embedding_dim, input_length=sequence_length)(inputs)\n",
    "\n",
    "reshape = Reshape((sequence_length, embedding_dim, 1))(embedding_layer)\n",
    "\n",
    "# Note the relu activation which Kim specifically mentions\n",
    "# He also uses an l2 constraint of 3\n",
    "# Also, note that the convolution window acts on the whole 200 dimensions - that's important\n",
    "conv_0 = Conv2D(num_filters, kernel_size=(3, embedding_dim), activation='relu', kernel_regularizer=regularizers.l2(3))(reshape)\n",
    "conv_1 = Conv2D(num_filters, kernel_size=(4, embedding_dim), activation='relu', kernel_regularizer=regularizers.l2(3))(reshape)\n",
    "conv_2 = Conv2D(num_filters, kernel_size=(5, embedding_dim), activation='relu', kernel_regularizer=regularizers.l2(3))(reshape)\n",
    "\n",
    "# perform max pooling on each of the convoluations\n",
    "maxpool_0 = MaxPool2D(pool_size=(sequence_length - 3 + 1, 1), strides=(1,1), padding='valid')(conv_0)\n",
    "maxpool_1 = MaxPool2D(pool_size=(sequence_length - 4 + 1, 1), strides=(1,1), padding='valid')(conv_1)\n",
    "maxpool_2 = MaxPool2D(pool_size=(sequence_length - 5 + 1, 1), strides=(1,1), padding='valid')(conv_2)\n",
    "\n",
    "# concat and flatten\n",
    "concatenated_tensor = Concatenate(axis=1)([maxpool_0, maxpool_1, maxpool_2])\n",
    "flatten = Flatten()(concatenated_tensor)\n",
    "\n",
    "# do dropout and predict\n",
    "dropout = Dropout(0.5)(flatten)\n",
    "output = Dense(units=5, activation='softmax')(dropout)"
   ]
  },
  {
   "cell_type": "code",
   "execution_count": 11,
   "metadata": {},
   "outputs": [
    {
     "name": "stdout",
     "output_type": "stream",
     "text": [
      "__________________________________________________________________________________________________\n",
      "Layer (type)                    Output Shape         Param #     Connected to                     \n",
      "==================================================================================================\n",
      "input_1 (InputLayer)            (None, 52)           0                                            \n",
      "__________________________________________________________________________________________________\n",
      "embedding_1 (Embedding)         (None, 52, 200)      4000000     input_1[0][0]                    \n",
      "__________________________________________________________________________________________________\n",
      "reshape_1 (Reshape)             (None, 52, 200, 1)   0           embedding_1[0][0]                \n",
      "__________________________________________________________________________________________________\n",
      "conv2d_1 (Conv2D)               (None, 50, 1, 100)   60100       reshape_1[0][0]                  \n",
      "__________________________________________________________________________________________________\n",
      "conv2d_2 (Conv2D)               (None, 49, 1, 100)   80100       reshape_1[0][0]                  \n",
      "__________________________________________________________________________________________________\n",
      "conv2d_3 (Conv2D)               (None, 48, 1, 100)   100100      reshape_1[0][0]                  \n",
      "__________________________________________________________________________________________________\n",
      "max_pooling2d_1 (MaxPooling2D)  (None, 1, 1, 100)    0           conv2d_1[0][0]                   \n",
      "__________________________________________________________________________________________________\n",
      "max_pooling2d_2 (MaxPooling2D)  (None, 1, 1, 100)    0           conv2d_2[0][0]                   \n",
      "__________________________________________________________________________________________________\n",
      "max_pooling2d_3 (MaxPooling2D)  (None, 1, 1, 100)    0           conv2d_3[0][0]                   \n",
      "__________________________________________________________________________________________________\n",
      "concatenate_1 (Concatenate)     (None, 3, 1, 100)    0           max_pooling2d_1[0][0]            \n",
      "                                                                 max_pooling2d_2[0][0]            \n",
      "                                                                 max_pooling2d_3[0][0]            \n",
      "__________________________________________________________________________________________________\n",
      "flatten_1 (Flatten)             (None, 300)          0           concatenate_1[0][0]              \n",
      "__________________________________________________________________________________________________\n",
      "dropout_1 (Dropout)             (None, 300)          0           flatten_1[0][0]                  \n",
      "__________________________________________________________________________________________________\n",
      "dense_1 (Dense)                 (None, 5)            1505        dropout_1[0][0]                  \n",
      "==================================================================================================\n",
      "Total params: 4,241,805\n",
      "Trainable params: 4,241,805\n",
      "Non-trainable params: 0\n",
      "__________________________________________________________________________________________________\n",
      "None\n"
     ]
    }
   ],
   "source": [
    "model = Model(inputs=inputs, outputs=output)\n",
    "model.compile(loss='categorical_crossentropy', optimizer='adam', metrics=['accuracy'])\n",
    "print(model.summary())"
   ]
  },
  {
   "cell_type": "code",
   "execution_count": 12,
   "metadata": {
    "scrolled": true
   },
   "outputs": [
    {
     "name": "stdout",
     "output_type": "stream",
     "text": [
      "WARNING:tensorflow:From D:\\Anaconda3\\lib\\site-packages\\tensorflow\\python\\ops\\math_ops.py:3066: to_int32 (from tensorflow.python.ops.math_ops) is deprecated and will be removed in a future version.\n",
      "Instructions for updating:\n",
      "Use tf.cast instead.\n",
      "Train on 28641 samples, validate on 3183 samples\n",
      "Epoch 1/30\n",
      "28641/28641 [==============================] - 162s 6ms/step - loss: 1.6987 - acc: 0.2309 - val_loss: 1.6104 - val_acc: 0.3139\n",
      "Epoch 2/30\n",
      "28641/28641 [==============================] - 145s 5ms/step - loss: 1.6047 - acc: 0.2893 - val_loss: 1.5826 - val_acc: 0.2941\n",
      "Epoch 3/30\n",
      "28641/28641 [==============================] - 144s 5ms/step - loss: 1.5716 - acc: 0.3159 - val_loss: 1.5368 - val_acc: 0.3424\n",
      "Epoch 4/30\n",
      "28641/28641 [==============================] - 144s 5ms/step - loss: 1.5286 - acc: 0.3514 - val_loss: 1.5408 - val_acc: 0.3644\n",
      "Epoch 5/30\n",
      "28641/28641 [==============================] - 143s 5ms/step - loss: 1.4992 - acc: 0.3698 - val_loss: 1.5368 - val_acc: 0.3729\n",
      "Epoch 6/30\n",
      "28641/28641 [==============================] - 144s 5ms/step - loss: 1.4774 - acc: 0.3849 - val_loss: 1.5077 - val_acc: 0.3673\n",
      "Epoch 7/30\n",
      "28641/28641 [==============================] - 147s 5ms/step - loss: 1.4536 - acc: 0.4025 - val_loss: 1.6100 - val_acc: 0.3663\n",
      "Epoch 8/30\n",
      "28641/28641 [==============================] - 146s 5ms/step - loss: 1.4389 - acc: 0.4154 - val_loss: 1.5660 - val_acc: 0.3792\n",
      "Epoch 9/30\n",
      "28641/28641 [==============================] - 144s 5ms/step - loss: 1.4267 - acc: 0.4261 - val_loss: 1.5489 - val_acc: 0.3977\n",
      "Epoch 10/30\n",
      "28641/28641 [==============================] - 142s 5ms/step - loss: 1.4252 - acc: 0.4322 - val_loss: 1.5757 - val_acc: 0.3911\n",
      "Epoch 11/30\n",
      "28641/28641 [==============================] - 142s 5ms/step - loss: 1.4112 - acc: 0.4390 - val_loss: 1.5653 - val_acc: 0.4037\n",
      "Epoch 12/30\n",
      "28641/28641 [==============================] - 142s 5ms/step - loss: 1.3990 - acc: 0.4430 - val_loss: 1.5376 - val_acc: 0.3984\n",
      "Epoch 13/30\n",
      "28641/28641 [==============================] - 141s 5ms/step - loss: 1.3955 - acc: 0.4557 - val_loss: 1.5604 - val_acc: 0.4050\n",
      "Epoch 14/30\n",
      "28641/28641 [==============================] - 145s 5ms/step - loss: 1.3873 - acc: 0.4606 - val_loss: 1.5626 - val_acc: 0.4075\n",
      "Epoch 15/30\n",
      "28641/28641 [==============================] - 141s 5ms/step - loss: 1.3856 - acc: 0.4624 - val_loss: 1.6866 - val_acc: 0.3924\n",
      "Epoch 16/30\n",
      "28641/28641 [==============================] - 142s 5ms/step - loss: 1.3819 - acc: 0.4627 - val_loss: 1.6638 - val_acc: 0.3864\n",
      "Epoch 17/30\n",
      "28641/28641 [==============================] - 142s 5ms/step - loss: 1.3760 - acc: 0.4684 - val_loss: 1.5741 - val_acc: 0.4254\n",
      "Epoch 18/30\n",
      "28641/28641 [==============================] - 142s 5ms/step - loss: 1.3767 - acc: 0.4699 - val_loss: 1.5075 - val_acc: 0.3842\n",
      "Epoch 19/30\n",
      "28641/28641 [==============================] - 146s 5ms/step - loss: 1.3701 - acc: 0.4726 - val_loss: 1.7550 - val_acc: 0.3899\n",
      "Epoch 20/30\n",
      "28641/28641 [==============================] - 143s 5ms/step - loss: 1.3663 - acc: 0.4799 - val_loss: 1.6566 - val_acc: 0.3861\n",
      "Epoch 21/30\n",
      "28641/28641 [==============================] - 141s 5ms/step - loss: 1.3615 - acc: 0.4837 - val_loss: 1.5772 - val_acc: 0.4314\n",
      "Epoch 22/30\n",
      "28641/28641 [==============================] - 142s 5ms/step - loss: 1.3648 - acc: 0.4872 - val_loss: 1.5778 - val_acc: 0.3981\n",
      "Epoch 23/30\n",
      "28641/28641 [==============================] - 142s 5ms/step - loss: 1.3504 - acc: 0.4899 - val_loss: 1.5891 - val_acc: 0.4358\n",
      "Epoch 24/30\n",
      "28641/28641 [==============================] - 142s 5ms/step - loss: 1.3479 - acc: 0.4959 - val_loss: 1.6469 - val_acc: 0.4097\n",
      "Epoch 25/30\n",
      "28641/28641 [==============================] - 142s 5ms/step - loss: 1.3437 - acc: 0.4960 - val_loss: 1.5946 - val_acc: 0.4373\n",
      "Epoch 26/30\n",
      "28641/28641 [==============================] - 142s 5ms/step - loss: 1.3446 - acc: 0.4994 - val_loss: 1.5788 - val_acc: 0.4370\n",
      "Epoch 27/30\n",
      "28641/28641 [==============================] - 142s 5ms/step - loss: 1.3422 - acc: 0.5046 - val_loss: 1.7051 - val_acc: 0.4518\n",
      "Epoch 28/30\n",
      "28641/28641 [==============================] - 144s 5ms/step - loss: 1.3423 - acc: 0.5099 - val_loss: 1.6302 - val_acc: 0.4389\n",
      "Epoch 29/30\n",
      "28641/28641 [==============================] - 143s 5ms/step - loss: 1.3473 - acc: 0.5104 - val_loss: 1.6573 - val_acc: 0.4577\n",
      "Epoch 30/30\n",
      "28641/28641 [==============================] - 142s 5ms/step - loss: 1.3360 - acc: 0.5143 - val_loss: 1.7258 - val_acc: 0.4452\n"
     ]
    }
   ],
   "source": [
    "batch_size = 32 # Kim uses 50 here, I have a slightly smaller sample size than num\n",
    "history = model.fit(X_train, y_train, epochs=30, batch_size=batch_size, verbose=1, validation_split=0.1, shuffle=True)"
   ]
  },
  {
   "cell_type": "code",
   "execution_count": 13,
   "metadata": {},
   "outputs": [
    {
     "data": {
      "image/png": "[encoded data removed]",
      "text/plain": [
       "<Figure size 432x288 with 1 Axes>"
      ]
     },
     "metadata": {},
     "output_type": "display_data"
    },
    {
     "data": {
      "image/png": "[encoded data removed]",
      "text/plain": [
       "<Figure size 432x288 with 1 Axes>"
      ]
     },
     "metadata": {},
     "output_type": "display_data"
    }
   ],
   "source": [
    "plt.plot(history.history['acc'])\n",
    "plt.plot(history.history['val_acc'])\n",
    "plt.title('model accuracy')\n",
    "plt.ylabel('accuracy')\n",
    "plt.xlabel('epoch')\n",
    "plt.legend(['train', 'validation'], loc='upper left')\n",
    "plt.show()\n",
    "\n",
    "plt.plot(history.history['loss'])\n",
    "plt.plot(history.history['val_loss'])\n",
    "plt.title('model loss')\n",
    "plt.ylabel('loss')\n",
    "plt.xlabel('epoch')\n",
    "plt.legend(['train', 'validation'], loc='upper left')\n",
    "plt.show()"
   ]
  },
  {
   "cell_type": "code",
   "execution_count": 14,
   "metadata": {},
   "outputs": [
    {
     "data": {
      "text/plain": [
       "0.4473981900452489"
      ]
     },
     "execution_count": 14,
     "metadata": {},
     "output_type": "execute_result"
    }
   ],
   "source": [
    "y_hat = model.predict(X_test)\n",
    "accuracy_score(list(map(lambda x: np.argmax(x), y_test)), list(map(lambda x: np.argmax(x), y_hat)))"
   ]
  },
  {
   "cell_type": "code",
   "execution_count": 15,
   "metadata": {},
   "outputs": [
    {
     "data": {
      "text/plain": [
       "array([[274, 163,  42, 216,  24],\n",
       "       [175, 237, 133, 131,  37],\n",
       "       [ 58, 121, 386,  67,  49],\n",
       "       [ 76,  94, 120, 201, 236],\n",
       "       [ 33,  21,  20, 138, 484]], dtype=int64)"
      ]
     },
     "execution_count": 15,
     "metadata": {},
     "output_type": "execute_result"
    }
   ],
   "source": [
    "confusion_matrix(list(map(lambda x: np.argmax(x), y_test)), list(map(lambda x: np.argmax(x), y_hat)))"
   ]
  },
  {
   "cell_type": "markdown",
   "metadata": {},
   "source": [
    "# Model2 : Static word2vec"
   ]
  },
  {
   "cell_type": "code",
   "execution_count": 19,
   "metadata": {},
   "outputs": [
    {
     "name": "stdout",
     "output_type": "stream",
     "text": [
      "Found 400000 word vectors.\n"
     ]
    }
   ],
   "source": [
    "embeddings_index = {}\n",
    "#f = open(os.path.join('input/glove-global-vectors-for-word-representation', 'glove.6B.200d.txt'), \"r\")\n",
    "with open(os.path.join('input/glove-global-vectors-for-word-representation', 'glove.6B.200d.txt'), 'r',encoding='utf-8') as f:\n",
    "    for line in f:\n",
    "        values = line.split()\n",
    "        word = values[0]\n",
    "        coefs = np.asarray(values[1:], dtype='float32')\n",
    "        embeddings_index[word] = coefs\n",
    "    f.close()\n",
    "\n",
    "print('Found %s word vectors.' % len(embeddings_index))"
   ]
  },
  {
   "cell_type": "code",
   "execution_count": 20,
   "metadata": {},
   "outputs": [
    {
     "name": "stdout",
     "output_type": "stream",
     "text": [
      "Found 14003 unique tokens.\n"
     ]
    }
   ],
   "source": [
    "word_index = tokenizer.word_index\n",
    "print('Found %s unique tokens.' % len(word_index))"
   ]
  },
  {
   "cell_type": "code",
   "execution_count": 21,
   "metadata": {},
   "outputs": [
    {
     "name": "stdout",
     "output_type": "stream",
     "text": [
      "14004\n"
     ]
    }
   ],
   "source": [
    "num_words = min(max_features, len(word_index)) + 1\n",
    "print(num_words)\n",
    "\n",
    "# first create a matrix of zeros, this is our embedding matrix\n",
    "embedding_matrix = np.zeros((num_words, embedding_dim))\n",
    "\n",
    "# for each word in out tokenizer lets try to find that work in our w2v model\n",
    "for word, i in word_index.items():\n",
    "    if i > max_features:\n",
    "        continue\n",
    "    embedding_vector = embeddings_index.get(word)\n",
    "    if embedding_vector is not None:\n",
    "        # we found the word - add that words vector to the matrix\n",
    "        embedding_matrix[i] = embedding_vector\n",
    "    else:\n",
    "        # doesn't exist, assign a random vector\n",
    "        embedding_matrix[i] = np.random.randn(embedding_dim)"
   ]
  },
  {
   "cell_type": "code",
   "execution_count": 22,
   "metadata": {},
   "outputs": [
    {
     "name": "stdout",
     "output_type": "stream",
     "text": [
      "__________________________________________________________________________________________________\n",
      "Layer (type)                    Output Shape         Param #     Connected to                     \n",
      "==================================================================================================\n",
      "input_2 (InputLayer)            (None, 52)           0                                            \n",
      "__________________________________________________________________________________________________\n",
      "embedding_2 (Embedding)         (None, 52, 200)      2800800     input_2[0][0]                    \n",
      "__________________________________________________________________________________________________\n",
      "reshape_2 (Reshape)             (None, 52, 200, 1)   0           embedding_2[0][0]                \n",
      "__________________________________________________________________________________________________\n",
      "conv2d_4 (Conv2D)               (None, 50, 1, 100)   60100       reshape_2[0][0]                  \n",
      "__________________________________________________________________________________________________\n",
      "conv2d_5 (Conv2D)               (None, 49, 1, 100)   80100       reshape_2[0][0]                  \n",
      "__________________________________________________________________________________________________\n",
      "conv2d_6 (Conv2D)               (None, 48, 1, 100)   100100      reshape_2[0][0]                  \n",
      "__________________________________________________________________________________________________\n",
      "max_pooling2d_4 (MaxPooling2D)  (None, 1, 1, 100)    0           conv2d_4[0][0]                   \n",
      "__________________________________________________________________________________________________\n",
      "max_pooling2d_5 (MaxPooling2D)  (None, 1, 1, 100)    0           conv2d_5[0][0]                   \n",
      "__________________________________________________________________________________________________\n",
      "max_pooling2d_6 (MaxPooling2D)  (None, 1, 1, 100)    0           conv2d_6[0][0]                   \n",
      "__________________________________________________________________________________________________\n",
      "concatenate_2 (Concatenate)     (None, 3, 1, 100)    0           max_pooling2d_4[0][0]            \n",
      "                                                                 max_pooling2d_5[0][0]            \n",
      "                                                                 max_pooling2d_6[0][0]            \n",
      "__________________________________________________________________________________________________\n",
      "flatten_2 (Flatten)             (None, 300)          0           concatenate_2[0][0]              \n",
      "__________________________________________________________________________________________________\n",
      "dropout_2 (Dropout)             (None, 300)          0           flatten_2[0][0]                  \n",
      "__________________________________________________________________________________________________\n",
      "dense_2 (Dense)                 (None, 5)            1505        dropout_2[0][0]                  \n",
      "==================================================================================================\n",
      "Total params: 3,042,605\n",
      "Trainable params: 241,805\n",
      "Non-trainable params: 2,800,800\n",
      "__________________________________________________________________________________________________\n",
      "None\n"
     ]
    }
   ],
   "source": [
    "inputs_2 = Input(shape=(sequence_length,), dtype='int32')\n",
    "\n",
    "# note the `trainable=False`, later we will make this layer trainable\n",
    "embedding_layer_2 = Embedding(num_words,\n",
    "                            embedding_dim,\n",
    "                            embeddings_initializer=Constant(embedding_matrix),\n",
    "                            input_length=sequence_length,\n",
    "                            trainable=False)(inputs_2)\n",
    "\n",
    "reshape_2 = Reshape((sequence_length, embedding_dim, 1))(embedding_layer_2)\n",
    "\n",
    "conv_0_2 = Conv2D(num_filters, kernel_size=(3, embedding_dim), activation='relu', kernel_regularizer=regularizers.l2(3))(reshape_2)\n",
    "conv_1_2 = Conv2D(num_filters, kernel_size=(4, embedding_dim), activation='relu', kernel_regularizer=regularizers.l2(3))(reshape_2)\n",
    "conv_2_2 = Conv2D(num_filters, kernel_size=(5, embedding_dim), activation='relu', kernel_regularizer=regularizers.l2(3))(reshape_2)\n",
    "\n",
    "maxpool_0_2 = MaxPool2D(pool_size=(sequence_length - 3 + 1, 1), strides=(1,1), padding='valid')(conv_0_2)\n",
    "maxpool_1_2 = MaxPool2D(pool_size=(sequence_length - 4 + 1, 1), strides=(1,1), padding='valid')(conv_1_2)\n",
    "maxpool_2_2 = MaxPool2D(pool_size=(sequence_length - 5 + 1, 1), strides=(1,1), padding='valid')(conv_2_2)\n",
    "\n",
    "concatenated_tensor_2 = Concatenate(axis=1)([maxpool_0_2, maxpool_1_2, maxpool_2_2])\n",
    "flatten_2 = Flatten()(concatenated_tensor_2)\n",
    "\n",
    "dropout_2 = Dropout(0.5)(flatten_2)\n",
    "output_2 = Dense(units=5, activation='softmax')(dropout_2)\n",
    "model_2 = Model(inputs=inputs_2, outputs=output_2)\n",
    "model_2.compile(loss='categorical_crossentropy', optimizer='adam', metrics=['accuracy'])\n",
    "print(model_2.summary())"
   ]
  },
  {
   "cell_type": "code",
   "execution_count": 23,
   "metadata": {},
   "outputs": [
    {
     "name": "stdout",
     "output_type": "stream",
     "text": [
      "Train on 25459 samples, validate on 6365 samples\n",
      "Epoch 1/30\n",
      "25459/25459 [==============================] - 49s 2ms/step - loss: 1.8400 - acc: 0.2786 - val_loss: 1.8346 - val_acc: 0.2687\n",
      "Epoch 2/30\n",
      "25459/25459 [==============================] - 47s 2ms/step - loss: 1.7725 - acc: 0.2971 - val_loss: 1.7455 - val_acc: 0.2930\n",
      "Epoch 3/30\n",
      "25459/25459 [==============================] - 48s 2ms/step - loss: 1.7744 - acc: 0.3125 - val_loss: 1.7743 - val_acc: 0.3819\n",
      "Epoch 4/30\n",
      "25459/25459 [==============================] - 45s 2ms/step - loss: 1.7641 - acc: 0.3226 - val_loss: 1.7325 - val_acc: 0.3350\n",
      "Epoch 5/30\n",
      "25459/25459 [==============================] - 46s 2ms/step - loss: 1.7470 - acc: 0.3279 - val_loss: 1.7258 - val_acc: 0.3662\n",
      "Epoch 6/30\n",
      "25459/25459 [==============================] - 44s 2ms/step - loss: 1.7265 - acc: 0.3416 - val_loss: 1.7600 - val_acc: 0.3288\n",
      "Epoch 7/30\n",
      "25459/25459 [==============================] - 44s 2ms/step - loss: 1.7116 - acc: 0.3508 - val_loss: 1.7240 - val_acc: 0.3056\n",
      "Epoch 8/30\n",
      "25459/25459 [==============================] - 45s 2ms/step - loss: 1.6940 - acc: 0.3569 - val_loss: 1.6371 - val_acc: 0.4261\n",
      "Epoch 9/30\n",
      "25459/25459 [==============================] - 45s 2ms/step - loss: 1.6755 - acc: 0.3685 - val_loss: 1.6713 - val_acc: 0.3626\n",
      "Epoch 10/30\n",
      "25459/25459 [==============================] - 43s 2ms/step - loss: 1.6636 - acc: 0.3623 - val_loss: 1.6311 - val_acc: 0.4160\n",
      "Epoch 11/30\n",
      "25459/25459 [==============================] - 44s 2ms/step - loss: 1.6491 - acc: 0.3648 - val_loss: 1.5982 - val_acc: 0.4375\n",
      "Epoch 12/30\n",
      "25459/25459 [==============================] - 43s 2ms/step - loss: 1.6489 - acc: 0.3612 - val_loss: 1.6065 - val_acc: 0.4512\n",
      "Epoch 13/30\n",
      "25459/25459 [==============================] - 43s 2ms/step - loss: 1.6421 - acc: 0.3666 - val_loss: 1.5895 - val_acc: 0.4512\n",
      "Epoch 14/30\n",
      "25459/25459 [==============================] - 43s 2ms/step - loss: 1.6394 - acc: 0.3736 - val_loss: 1.5825 - val_acc: 0.4478\n",
      "Epoch 15/30\n",
      "25459/25459 [==============================] - 43s 2ms/step - loss: 1.6418 - acc: 0.3676 - val_loss: 1.6093 - val_acc: 0.4338\n",
      "Epoch 16/30\n",
      "25459/25459 [==============================] - 44s 2ms/step - loss: 1.6379 - acc: 0.3681 - val_loss: 1.5755 - val_acc: 0.4489\n",
      "Epoch 17/30\n",
      "25459/25459 [==============================] - 44s 2ms/step - loss: 1.6311 - acc: 0.3669 - val_loss: 1.5618 - val_acc: 0.4462\n",
      "Epoch 18/30\n",
      "25459/25459 [==============================] - 44s 2ms/step - loss: 1.6332 - acc: 0.3687 - val_loss: 1.5722 - val_acc: 0.4336\n",
      "Epoch 19/30\n",
      "25459/25459 [==============================] - 43s 2ms/step - loss: 1.6302 - acc: 0.3691 - val_loss: 1.5452 - val_acc: 0.4646\n",
      "Epoch 20/30\n",
      "25459/25459 [==============================] - 43s 2ms/step - loss: 1.6325 - acc: 0.3657 - val_loss: 1.5699 - val_acc: 0.4303\n",
      "Epoch 21/30\n",
      "25459/25459 [==============================] - 44s 2ms/step - loss: 1.6301 - acc: 0.3698 - val_loss: 1.5664 - val_acc: 0.4504\n",
      "Epoch 22/30\n",
      "25459/25459 [==============================] - 43s 2ms/step - loss: 1.6350 - acc: 0.3560 - val_loss: 1.5732 - val_acc: 0.4449\n",
      "Epoch 23/30\n",
      "25459/25459 [==============================] - 45s 2ms/step - loss: 1.6296 - acc: 0.3661 - val_loss: 1.5945 - val_acc: 0.3995\n",
      "Epoch 24/30\n",
      "25459/25459 [==============================] - 46s 2ms/step - loss: 1.6341 - acc: 0.3638 - val_loss: 1.5640 - val_acc: 0.4613\n",
      "Epoch 25/30\n",
      "25459/25459 [==============================] - 43s 2ms/step - loss: 1.6326 - acc: 0.3590 - val_loss: 1.5780 - val_acc: 0.4408\n",
      "Epoch 26/30\n",
      "25459/25459 [==============================] - 44s 2ms/step - loss: 1.6275 - acc: 0.3650 - val_loss: 1.5617 - val_acc: 0.4687\n",
      "Epoch 27/30\n",
      "25459/25459 [==============================] - 43s 2ms/step - loss: 1.6256 - acc: 0.3589 - val_loss: 1.5683 - val_acc: 0.4313\n",
      "Epoch 28/30\n",
      "25459/25459 [==============================] - 43s 2ms/step - loss: 1.6156 - acc: 0.3650 - val_loss: 1.5433 - val_acc: 0.4573\n",
      "Epoch 29/30\n",
      "25459/25459 [==============================] - 46s 2ms/step - loss: 1.6110 - acc: 0.3620 - val_loss: 1.5435 - val_acc: 0.4405\n",
      "Epoch 30/30\n",
      "25459/25459 [==============================] - 43s 2ms/step - loss: 1.6194 - acc: 0.3633 - val_loss: 1.5431 - val_acc: 0.4449\n"
     ]
    }
   ],
   "source": [
    "batch_size = 32\n",
    "history_2 = model_2.fit(X_train, y_train, epochs=30, batch_size=batch_size, verbose=1, validation_split=0.2)"
   ]
  },
  {
   "cell_type": "code",
   "execution_count": 24,
   "metadata": {},
   "outputs": [
    {
     "data": {
      "image/png": "[encoded data removed]",
      "text/plain": [
       "<Figure size 432x288 with 1 Axes>"
      ]
     },
     "metadata": {},
     "output_type": "display_data"
    },
    {
     "data": {
      "image/png": "[encoded data removed]",
      "text/plain": [
       "<Figure size 432x288 with 1 Axes>"
      ]
     },
     "metadata": {},
     "output_type": "display_data"
    }
   ],
   "source": [
    "plt.plot(history_2.history['acc'])\n",
    "plt.plot(history_2.history['val_acc'])\n",
    "plt.title('model accuracy')\n",
    "plt.ylabel('accuracy')\n",
    "plt.xlabel('epoch')\n",
    "plt.legend(['train', 'validation'], loc='upper left')\n",
    "plt.show()\n",
    "\n",
    "plt.plot(history_2.history['loss'])\n",
    "plt.plot(history_2.history['val_loss'])\n",
    "plt.title('model loss')\n",
    "plt.ylabel('loss')\n",
    "plt.xlabel('epoch')\n",
    "plt.legend(['train', 'validation'], loc='upper left')\n",
    "plt.show()"
   ]
  },
  {
   "cell_type": "code",
   "execution_count": 25,
   "metadata": {},
   "outputs": [
    {
     "data": {
      "text/plain": [
       "0.43721719457013575"
      ]
     },
     "execution_count": 25,
     "metadata": {},
     "output_type": "execute_result"
    }
   ],
   "source": [
    "y_hat_2 = model_2.predict(X_test)\n",
    "accuracy_score(list(map(lambda x: np.argmax(x), y_test)), list(map(lambda x: np.argmax(x), y_hat_2)))"
   ]
  },
  {
   "cell_type": "code",
   "execution_count": 26,
   "metadata": {},
   "outputs": [
    {
     "data": {
      "text/plain": [
       "array([[317, 245, 102,  25,  30],\n",
       "       [165, 226, 247,  47,  28],\n",
       "       [ 25,  85, 510,  35,  26],\n",
       "       [ 36,  89, 287, 143, 172],\n",
       "       [ 34,  41, 151, 120, 350]], dtype=int64)"
      ]
     },
     "execution_count": 26,
     "metadata": {},
     "output_type": "execute_result"
    }
   ],
   "source": [
    "confusion_matrix(list(map(lambda x: np.argmax(x), y_test)), list(map(lambda x: np.argmax(x), y_hat_2)))"
   ]
  },
  {
   "cell_type": "markdown",
   "metadata": {},
   "source": [
    "# Model3: w2v with trainalbe embeddings"
   ]
  },
  {
   "cell_type": "code",
   "execution_count": 27,
   "metadata": {},
   "outputs": [],
   "source": [
    "inputs_3 = Input(shape=(sequence_length,), dtype='int32')\n",
    "embedding_layer_3 = Embedding(num_words,\n",
    "                            embedding_dim,\n",
    "                            embeddings_initializer=Constant(embedding_matrix),\n",
    "                            input_length=sequence_length,\n",
    "                            trainable=True)(inputs_3)\n",
    "\n",
    "reshape_3 = Reshape((sequence_length, embedding_dim, 1))(embedding_layer_3)\n",
    "\n",
    "# note the relu activation\n",
    "conv_0_3 = Conv2D(num_filters, kernel_size=(3, embedding_dim), activation='relu', kernel_regularizer=regularizers.l2(3))(reshape_3)\n",
    "conv_1_3 = Conv2D(num_filters, kernel_size=(4, embedding_dim), activation='relu', kernel_regularizer=regularizers.l2(3))(reshape_3)\n",
    "conv_2_3 = Conv2D(num_filters, kernel_size=(5, embedding_dim), activation='relu', kernel_regularizer=regularizers.l2(3))(reshape_3)\n",
    "\n",
    "maxpool_0_3 = MaxPool2D(pool_size=(sequence_length - 3 + 1, 1), strides=(1,1), padding='valid')(conv_0_3)\n",
    "maxpool_1_3 = MaxPool2D(pool_size=(sequence_length - 4 + 1, 1), strides=(1,1), padding='valid')(conv_1_3)\n",
    "maxpool_2_3 = MaxPool2D(pool_size=(sequence_length - 5 + 1, 1), strides=(1,1), padding='valid')(conv_2_3)\n",
    "\n",
    "concatenated_tensor_3 = Concatenate(axis=1)([maxpool_0_3, maxpool_1_3, maxpool_2_3])\n",
    "flatten_3 = Flatten()(concatenated_tensor_3)\n",
    "\n",
    "dropout_3 = Dropout(0.5)(flatten_3)\n",
    "output_3 = Dense(units=5, activation='softmax')(dropout_3)"
   ]
  },
  {
   "cell_type": "code",
   "execution_count": 28,
   "metadata": {},
   "outputs": [
    {
     "name": "stdout",
     "output_type": "stream",
     "text": [
      "__________________________________________________________________________________________________\n",
      "Layer (type)                    Output Shape         Param #     Connected to                     \n",
      "==================================================================================================\n",
      "input_3 (InputLayer)            (None, 52)           0                                            \n",
      "__________________________________________________________________________________________________\n",
      "embedding_3 (Embedding)         (None, 52, 200)      2800800     input_3[0][0]                    \n",
      "__________________________________________________________________________________________________\n",
      "reshape_3 (Reshape)             (None, 52, 200, 1)   0           embedding_3[0][0]                \n",
      "__________________________________________________________________________________________________\n",
      "conv2d_7 (Conv2D)               (None, 50, 1, 100)   60100       reshape_3[0][0]                  \n",
      "__________________________________________________________________________________________________\n",
      "conv2d_8 (Conv2D)               (None, 49, 1, 100)   80100       reshape_3[0][0]                  \n",
      "__________________________________________________________________________________________________\n",
      "conv2d_9 (Conv2D)               (None, 48, 1, 100)   100100      reshape_3[0][0]                  \n",
      "__________________________________________________________________________________________________\n",
      "max_pooling2d_7 (MaxPooling2D)  (None, 1, 1, 100)    0           conv2d_7[0][0]                   \n",
      "__________________________________________________________________________________________________\n",
      "max_pooling2d_8 (MaxPooling2D)  (None, 1, 1, 100)    0           conv2d_8[0][0]                   \n",
      "__________________________________________________________________________________________________\n",
      "max_pooling2d_9 (MaxPooling2D)  (None, 1, 1, 100)    0           conv2d_9[0][0]                   \n",
      "__________________________________________________________________________________________________\n",
      "concatenate_3 (Concatenate)     (None, 3, 1, 100)    0           max_pooling2d_7[0][0]            \n",
      "                                                                 max_pooling2d_8[0][0]            \n",
      "                                                                 max_pooling2d_9[0][0]            \n",
      "__________________________________________________________________________________________________\n",
      "flatten_3 (Flatten)             (None, 300)          0           concatenate_3[0][0]              \n",
      "__________________________________________________________________________________________________\n",
      "dropout_3 (Dropout)             (None, 300)          0           flatten_3[0][0]                  \n",
      "__________________________________________________________________________________________________\n",
      "dense_3 (Dense)                 (None, 5)            1505        dropout_3[0][0]                  \n",
      "==================================================================================================\n",
      "Total params: 3,042,605\n",
      "Trainable params: 3,042,605\n",
      "Non-trainable params: 0\n",
      "__________________________________________________________________________________________________\n",
      "None\n"
     ]
    }
   ],
   "source": [
    "model_3 = Model(inputs=inputs_3, outputs=output_3)\n",
    "model_3.compile(loss='categorical_crossentropy', optimizer='adam', metrics=['accuracy'])\n",
    "print(model_3.summary())"
   ]
  },
  {
   "cell_type": "code",
   "execution_count": 29,
   "metadata": {},
   "outputs": [
    {
     "name": "stdout",
     "output_type": "stream",
     "text": [
      "Train on 25459 samples, validate on 6365 samples\n",
      "Epoch 1/30\n",
      "25459/25459 [==============================] - 107s 4ms/step - loss: 1.8587 - acc: 0.3200 - val_loss: 1.8070 - val_acc: 0.4473\n",
      "Epoch 2/30\n",
      "25459/25459 [==============================] - 105s 4ms/step - loss: 1.7440 - acc: 0.4541 - val_loss: 1.6532 - val_acc: 0.5236\n",
      "Epoch 3/30\n",
      "25459/25459 [==============================] - 113s 4ms/step - loss: 1.6501 - acc: 0.5039 - val_loss: 1.6366 - val_acc: 0.5362\n",
      "Epoch 4/30\n",
      "25459/25459 [==============================] - 108s 4ms/step - loss: 1.5872 - acc: 0.5387 - val_loss: 1.5745 - val_acc: 0.5351\n",
      "Epoch 5/30\n",
      "25459/25459 [==============================] - 109s 4ms/step - loss: 1.5429 - acc: 0.5519 - val_loss: 1.6035 - val_acc: 0.5518\n",
      "Epoch 6/30\n",
      "25459/25459 [==============================] - 109s 4ms/step - loss: 1.5296 - acc: 0.5606 - val_loss: 1.5476 - val_acc: 0.5365\n",
      "Epoch 7/30\n",
      "25459/25459 [==============================] - 109s 4ms/step - loss: 1.5065 - acc: 0.5721 - val_loss: 1.5525 - val_acc: 0.5521\n",
      "Epoch 8/30\n",
      "25459/25459 [==============================] - 109s 4ms/step - loss: 1.4830 - acc: 0.5836 - val_loss: 1.5609 - val_acc: 0.5353\n",
      "Epoch 9/30\n",
      "25459/25459 [==============================] - 109s 4ms/step - loss: 1.4673 - acc: 0.5907 - val_loss: 1.6198 - val_acc: 0.5478\n",
      "Epoch 10/30\n",
      "25459/25459 [==============================] - 109s 4ms/step - loss: 1.4572 - acc: 0.5943 - val_loss: 1.4850 - val_acc: 0.5384\n",
      "Epoch 11/30\n",
      "25459/25459 [==============================] - 109s 4ms/step - loss: 1.4525 - acc: 0.6040 - val_loss: 1.6066 - val_acc: 0.5566\n",
      "Epoch 12/30\n",
      "25459/25459 [==============================] - 109s 4ms/step - loss: 1.4290 - acc: 0.6020 - val_loss: 1.6436 - val_acc: 0.5436\n",
      "Epoch 13/30\n",
      "25459/25459 [==============================] - 109s 4ms/step - loss: 1.4245 - acc: 0.6097 - val_loss: 1.5384 - val_acc: 0.5483\n",
      "Epoch 14/30\n",
      "25459/25459 [==============================] - 110s 4ms/step - loss: 1.4155 - acc: 0.6165 - val_loss: 1.5642 - val_acc: 0.5164\n",
      "Epoch 15/30\n",
      "25459/25459 [==============================] - 110s 4ms/step - loss: 1.3982 - acc: 0.6170 - val_loss: 1.7011 - val_acc: 0.5246\n",
      "Epoch 16/30\n",
      "25459/25459 [==============================] - 118s 5ms/step - loss: 1.4113 - acc: 0.6194 - val_loss: 1.6275 - val_acc: 0.5551\n",
      "Epoch 17/30\n",
      "25459/25459 [==============================] - 114s 4ms/step - loss: 1.3780 - acc: 0.6260 - val_loss: 1.5793 - val_acc: 0.5450\n",
      "Epoch 18/30\n",
      "25459/25459 [==============================] - 113s 4ms/step - loss: 1.3801 - acc: 0.6308 - val_loss: 1.6547 - val_acc: 0.5480\n",
      "Epoch 19/30\n",
      "25459/25459 [==============================] - 110s 4ms/step - loss: 1.3790 - acc: 0.6314 - val_loss: 1.6374 - val_acc: 0.5395\n",
      "Epoch 20/30\n",
      "25459/25459 [==============================] - 110s 4ms/step - loss: 1.3628 - acc: 0.6342 - val_loss: 1.6256 - val_acc: 0.5449\n",
      "Epoch 21/30\n",
      "25459/25459 [==============================] - 110s 4ms/step - loss: 1.3833 - acc: 0.6361 - val_loss: 1.5932 - val_acc: 0.5057\n",
      "Epoch 22/30\n",
      "25459/25459 [==============================] - 109s 4ms/step - loss: 1.3520 - acc: 0.6368 - val_loss: 1.6240 - val_acc: 0.5315\n",
      "Epoch 23/30\n",
      "25459/25459 [==============================] - 110s 4ms/step - loss: 1.3546 - acc: 0.6417 - val_loss: 1.6034 - val_acc: 0.5477\n",
      "Epoch 24/30\n",
      "25459/25459 [==============================] - 111s 4ms/step - loss: 1.3456 - acc: 0.6401 - val_loss: 1.6640 - val_acc: 0.5383\n",
      "Epoch 25/30\n",
      "25459/25459 [==============================] - 110s 4ms/step - loss: 1.3239 - acc: 0.6486 - val_loss: 1.6467 - val_acc: 0.5475\n",
      "Epoch 26/30\n",
      "25459/25459 [==============================] - 110s 4ms/step - loss: 1.3423 - acc: 0.6464 - val_loss: 1.7277 - val_acc: 0.5092\n",
      "Epoch 27/30\n",
      "25459/25459 [==============================] - 111s 4ms/step - loss: 1.3277 - acc: 0.6488 - val_loss: 1.6526 - val_acc: 0.5379\n",
      "Epoch 28/30\n",
      "25459/25459 [==============================] - 110s 4ms/step - loss: 1.3227 - acc: 0.6474 - val_loss: 1.6668 - val_acc: 0.5400\n",
      "Epoch 29/30\n",
      "25459/25459 [==============================] - 109s 4ms/step - loss: 1.3131 - acc: 0.6548 - val_loss: 1.7510 - val_acc: 0.5469\n",
      "Epoch 30/30\n",
      "25459/25459 [==============================] - 111s 4ms/step - loss: 1.3242 - acc: 0.6505 - val_loss: 1.6874 - val_acc: 0.5236\n"
     ]
    }
   ],
   "source": [
    "batch_size = 32\n",
    "history_3 = model_3.fit(X_train, y_train, epochs=30, batch_size=batch_size, verbose=1, validation_split=0.2)"
   ]
  },
  {
   "cell_type": "code",
   "execution_count": 30,
   "metadata": {},
   "outputs": [
    {
     "data": {
      "image/png": "[encoded data removed]",
      "text/plain": [
       "<Figure size 432x288 with 1 Axes>"
      ]
     },
     "metadata": {},
     "output_type": "display_data"
    },
    {
     "data": {
      "image/png": "[encoded data removed]",
      "text/plain": [
       "<Figure size 432x288 with 1 Axes>"
      ]
     },
     "metadata": {},
     "output_type": "display_data"
    }
   ],
   "source": [
    "plt.plot(history_3.history['acc'])\n",
    "plt.plot(history_3.history['val_acc'])\n",
    "plt.title('model accuracy')\n",
    "plt.ylabel('accuracy')\n",
    "plt.xlabel('epoch')\n",
    "plt.legend(['train', 'validation'], loc='upper left')\n",
    "plt.show()\n",
    "\n",
    "plt.plot(history_3.history['loss'])\n",
    "plt.plot(history_3.history['val_loss'])\n",
    "plt.title('model loss')\n",
    "plt.ylabel('loss')\n",
    "plt.xlabel('epoch')\n",
    "plt.legend(['train', 'validation'], loc='upper left')\n",
    "plt.show()"
   ]
  },
  {
   "cell_type": "code",
   "execution_count": 31,
   "metadata": {},
   "outputs": [
    {
     "data": {
      "text/plain": [
       "0.5115950226244343"
      ]
     },
     "execution_count": 31,
     "metadata": {},
     "output_type": "execute_result"
    }
   ],
   "source": [
    "y_hat_3 = model_3.predict(X_test)\n",
    "accuracy_score(list(map(lambda x: np.argmax(x), y_test)), list(map(lambda x: np.argmax(x), y_hat_3)))"
   ]
  },
  {
   "cell_type": "code",
   "execution_count": 32,
   "metadata": {},
   "outputs": [
    {
     "data": {
      "text/plain": [
       "array([[384, 306,  20,   8,   1],\n",
       "       [158, 394, 109,  46,   6],\n",
       "       [ 26, 150, 400,  96,   9],\n",
       "       [ 25,  73, 178, 361,  90],\n",
       "       [ 21,  20,  30, 355, 270]], dtype=int64)"
      ]
     },
     "execution_count": 32,
     "metadata": {},
     "output_type": "execute_result"
    }
   ],
   "source": [
    "confusion_matrix(list(map(lambda x: np.argmax(x), y_test)), list(map(lambda x: np.argmax(x), y_hat_3)))"
   ]
  },
  {
   "cell_type": "markdown",
   "metadata": {},
   "source": [
    "# Model4 : with binary classification"
   ]
  },
  {
   "cell_type": "code",
   "execution_count": 33,
   "metadata": {},
   "outputs": [],
   "source": [
    "sst2_data = pd.concat([df_0.head(sample_size), df_1.head(sample_size), df_3.head(sample_size), df_4.head(sample_size)]).sample(frac=1)\n",
    "\n",
    "def merge_sentiments(x):\n",
    "    if x == 0 or x == 1:\n",
    "        return 0\n",
    "    else:\n",
    "        return 1\n",
    "\n",
    "sst2_data['Sentiment'] = sst2_data['Sentiment'].apply(merge_sentiments)\n",
    "\n",
    "sst2_tokenizer = Tokenizer(num_words=max_features, split=' ', oov_token='<unw>')\n",
    "sst2_tokenizer.fit_on_texts(sst2_data['Phrase'].values)\n",
    "\n",
    "sst2_X = sst2_tokenizer.texts_to_sequences(sst2_data['Phrase'].values)\n",
    "sst2_X = pad_sequences(sst2_X, sequence_length)\n",
    "\n",
    "sst2_y = sst2_data['Sentiment'].values\n",
    "\n",
    "sst2_X_train, sst2_X_test, sst2_y_train, sst2_y_test = train_test_split(sst2_X, sst2_y, test_size=0.1)"
   ]
  },
  {
   "cell_type": "code",
   "execution_count": 34,
   "metadata": {},
   "outputs": [
    {
     "name": "stdout",
     "output_type": "stream",
     "text": [
      "__________________________________________________________________________________________________\n",
      "Layer (type)                    Output Shape         Param #     Connected to                     \n",
      "==================================================================================================\n",
      "input_4 (InputLayer)            (None, 52)           0                                            \n",
      "__________________________________________________________________________________________________\n",
      "embedding_4 (Embedding)         (None, 52, 200)      2800800     input_4[0][0]                    \n",
      "__________________________________________________________________________________________________\n",
      "reshape_4 (Reshape)             (None, 52, 200, 1)   0           embedding_4[0][0]                \n",
      "__________________________________________________________________________________________________\n",
      "conv2d_10 (Conv2D)              (None, 50, 1, 100)   60100       reshape_4[0][0]                  \n",
      "__________________________________________________________________________________________________\n",
      "conv2d_11 (Conv2D)              (None, 49, 1, 100)   80100       reshape_4[0][0]                  \n",
      "__________________________________________________________________________________________________\n",
      "conv2d_12 (Conv2D)              (None, 48, 1, 100)   100100      reshape_4[0][0]                  \n",
      "__________________________________________________________________________________________________\n",
      "max_pooling2d_10 (MaxPooling2D) (None, 1, 1, 100)    0           conv2d_10[0][0]                  \n",
      "__________________________________________________________________________________________________\n",
      "max_pooling2d_11 (MaxPooling2D) (None, 1, 1, 100)    0           conv2d_11[0][0]                  \n",
      "__________________________________________________________________________________________________\n",
      "max_pooling2d_12 (MaxPooling2D) (None, 1, 1, 100)    0           conv2d_12[0][0]                  \n",
      "__________________________________________________________________________________________________\n",
      "concatenate_4 (Concatenate)     (None, 3, 1, 100)    0           max_pooling2d_10[0][0]           \n",
      "                                                                 max_pooling2d_11[0][0]           \n",
      "                                                                 max_pooling2d_12[0][0]           \n",
      "__________________________________________________________________________________________________\n",
      "flatten_4 (Flatten)             (None, 300)          0           concatenate_4[0][0]              \n",
      "__________________________________________________________________________________________________\n",
      "dropout_4 (Dropout)             (None, 300)          0           flatten_4[0][0]                  \n",
      "__________________________________________________________________________________________________\n",
      "dense_4 (Dense)                 (None, 1)            301         dropout_4[0][0]                  \n",
      "==================================================================================================\n",
      "Total params: 3,041,401\n",
      "Trainable params: 3,041,401\n",
      "Non-trainable params: 0\n",
      "__________________________________________________________________________________________________\n",
      "None\n"
     ]
    }
   ],
   "source": [
    "inputs_4 = Input(shape=(sequence_length,), dtype='int32')\n",
    "embedding_layer_4 = Embedding(num_words,\n",
    "                            embedding_dim,\n",
    "                            embeddings_initializer=Constant(embedding_matrix),\n",
    "                            input_length=sequence_length,\n",
    "                            trainable=True)(inputs_4)\n",
    "\n",
    "reshape_4 = Reshape((sequence_length, embedding_dim, 1))(embedding_layer_4)\n",
    "\n",
    "conv_0_4 = Conv2D(num_filters, kernel_size=(3, embedding_dim), padding='valid', kernel_initializer='normal', activation='relu', kernel_regularizer=regularizers.l2(3))(reshape_4)\n",
    "conv_1_4 = Conv2D(num_filters, kernel_size=(4, embedding_dim), padding='valid', kernel_initializer='normal', activation='relu', kernel_regularizer=regularizers.l2(3))(reshape_4)\n",
    "conv_2_4 = Conv2D(num_filters, kernel_size=(5, embedding_dim), padding='valid', kernel_initializer='normal', activation='relu', kernel_regularizer=regularizers.l2(3))(reshape_4)\n",
    "\n",
    "maxpool_0_4 = MaxPool2D(pool_size=(sequence_length - 3 + 1, 1), strides=(1,1), padding='valid')(conv_0_4)\n",
    "maxpool_1_4 = MaxPool2D(pool_size=(sequence_length - 4 + 1, 1), strides=(1,1), padding='valid')(conv_1_4)\n",
    "maxpool_2_4 = MaxPool2D(pool_size=(sequence_length - 5 + 1, 1), strides=(1,1), padding='valid')(conv_2_4)\n",
    "\n",
    "concatenated_tensor_4 = Concatenate(axis=1)([maxpool_0_4, maxpool_1_4, maxpool_2_4])\n",
    "flatten_4 = Flatten()(concatenated_tensor_4)\n",
    "\n",
    "dropout_4 = Dropout(0.5)(flatten_4)\n",
    "# note the different activation\n",
    "output_4 = Dense(units=1, activation='sigmoid')(dropout_4)\n",
    "model_4 = Model(inputs=inputs_4, outputs=output_4)\n",
    "\n",
    "# note we're using binary_crossentropy here instead of categorical\n",
    "model_4.compile(loss='binary_crossentropy', optimizer='adam', metrics=['accuracy'])\n",
    "print(model_4.summary())"
   ]
  },
  {
   "cell_type": "code",
   "execution_count": 35,
   "metadata": {},
   "outputs": [
    {
     "name": "stdout",
     "output_type": "stream",
     "text": [
      "Train on 20367 samples, validate on 5092 samples\n",
      "Epoch 1/30\n",
      "20367/20367 [==============================] - 89s 4ms/step - loss: 88.7180 - acc: 0.5092 - val_loss: 0.6982 - val_acc: 0.5401\n",
      "Epoch 2/30\n",
      "20367/20367 [==============================] - 88s 4ms/step - loss: 0.6974 - acc: 0.5052 - val_loss: 0.6970 - val_acc: 0.5069\n",
      "Epoch 3/30\n",
      "20367/20367 [==============================] - 87s 4ms/step - loss: 0.6970 - acc: 0.4986 - val_loss: 0.6966 - val_acc: 0.5106\n",
      "Epoch 4/30\n",
      "20367/20367 [==============================] - 87s 4ms/step - loss: 0.6966 - acc: 0.4975 - val_loss: 0.6967 - val_acc: 0.4880\n",
      "Epoch 5/30\n",
      "20367/20367 [==============================] - 87s 4ms/step - loss: 0.6955 - acc: 0.5014 - val_loss: 0.6948 - val_acc: 0.4880\n",
      "Epoch 6/30\n",
      "20367/20367 [==============================] - 86s 4ms/step - loss: 0.6951 - acc: 0.5054 - val_loss: 0.6959 - val_acc: 0.4929\n",
      "Epoch 7/30\n",
      "20367/20367 [==============================] - 87s 4ms/step - loss: 0.6954 - acc: 0.5013 - val_loss: 0.6955 - val_acc: 0.4880\n",
      "Epoch 8/30\n",
      "20367/20367 [==============================] - 87s 4ms/step - loss: 0.6950 - acc: 0.5028 - val_loss: 0.6955 - val_acc: 0.4880\n",
      "Epoch 9/30\n",
      "20367/20367 [==============================] - 91s 4ms/step - loss: 0.6946 - acc: 0.5013 - val_loss: 0.6944 - val_acc: 0.4880\n",
      "Epoch 10/30\n",
      "20367/20367 [==============================] - 87s 4ms/step - loss: 0.6944 - acc: 0.5002 - val_loss: 0.6951 - val_acc: 0.4880\n",
      "Epoch 11/30\n",
      "20367/20367 [==============================] - 92s 4ms/step - loss: 0.6945 - acc: 0.5010 - val_loss: 0.6948 - val_acc: 0.4884\n",
      "Epoch 12/30\n",
      "20367/20367 [==============================] - 87s 4ms/step - loss: 0.6950 - acc: 0.5091 - val_loss: 0.6942 - val_acc: 0.4880\n",
      "Epoch 13/30\n",
      "20367/20367 [==============================] - 92s 5ms/step - loss: 0.6948 - acc: 0.5073 - val_loss: 0.6948 - val_acc: 0.4880\n",
      "Epoch 14/30\n",
      "20367/20367 [==============================] - 87s 4ms/step - loss: 0.6959 - acc: 0.5121 - val_loss: 0.6961 - val_acc: 0.5367\n",
      "Epoch 15/30\n",
      "20367/20367 [==============================] - 96s 5ms/step - loss: 0.6981 - acc: 0.5335 - val_loss: 0.6996 - val_acc: 0.5664\n",
      "Epoch 16/30\n",
      "20367/20367 [==============================] - 106s 5ms/step - loss: 0.6969 - acc: 0.5996 - val_loss: 0.6828 - val_acc: 0.7147\n",
      "Epoch 17/30\n",
      "20367/20367 [==============================] - 95s 5ms/step - loss: 0.6724 - acc: 0.6995 - val_loss: 0.6456 - val_acc: 0.7404\n",
      "Epoch 18/30\n",
      "20367/20367 [==============================] - 85s 4ms/step - loss: 0.6296 - acc: 0.7622 - val_loss: 0.6037 - val_acc: 0.7960\n",
      "Epoch 19/30\n",
      "20367/20367 [==============================] - 85s 4ms/step - loss: 0.5871 - acc: 0.7944 - val_loss: 0.5694 - val_acc: 0.7971\n",
      "Epoch 20/30\n",
      "20367/20367 [==============================] - 85s 4ms/step - loss: 0.5555 - acc: 0.8125 - val_loss: 0.5304 - val_acc: 0.8288\n",
      "Epoch 21/30\n",
      "20367/20367 [==============================] - 87s 4ms/step - loss: 0.5170 - acc: 0.8321 - val_loss: 0.4995 - val_acc: 0.8329\n",
      "Epoch 22/30\n",
      "20367/20367 [==============================] - 89s 4ms/step - loss: 0.4899 - acc: 0.8459 - val_loss: 0.4992 - val_acc: 0.8309\n",
      "Epoch 23/30\n",
      "20367/20367 [==============================] - 104s 5ms/step - loss: 0.4701 - acc: 0.8595 - val_loss: 0.4823 - val_acc: 0.8449\n",
      "Epoch 24/30\n",
      "20367/20367 [==============================] - 87s 4ms/step - loss: 0.4507 - acc: 0.8646 - val_loss: 0.4757 - val_acc: 0.8382\n",
      "Epoch 25/30\n",
      "20367/20367 [==============================] - 86s 4ms/step - loss: 0.4358 - acc: 0.8717 - val_loss: 0.4776 - val_acc: 0.8407\n",
      "Epoch 26/30\n",
      "20367/20367 [==============================] - 86s 4ms/step - loss: 0.4270 - acc: 0.8747 - val_loss: 0.5173 - val_acc: 0.8443\n",
      "Epoch 27/30\n",
      "20367/20367 [==============================] - 86s 4ms/step - loss: 0.4094 - acc: 0.8809 - val_loss: 0.4831 - val_acc: 0.8515\n",
      "Epoch 28/30\n",
      "20367/20367 [==============================] - 86s 4ms/step - loss: 0.4047 - acc: 0.8826 - val_loss: 0.4963 - val_acc: 0.8505\n",
      "Epoch 29/30\n",
      "20367/20367 [==============================] - 86s 4ms/step - loss: 0.3937 - acc: 0.8905 - val_loss: 0.4376 - val_acc: 0.8527\n",
      "Epoch 30/30\n",
      "20367/20367 [==============================] - 88s 4ms/step - loss: 0.3905 - acc: 0.8931 - val_loss: 0.4252 - val_acc: 0.8527\n"
     ]
    }
   ],
   "source": [
    "batch_size = 32\n",
    "history_4 = model_4.fit(sst2_X_train, sst2_y_train, epochs=30, batch_size=batch_size, verbose=1, validation_split=0.2)"
   ]
  },
  {
   "cell_type": "code",
   "execution_count": 36,
   "metadata": {},
   "outputs": [
    {
     "data": {
      "image/png": "[encoded data removed]",
      "text/plain": [
       "<Figure size 432x288 with 1 Axes>"
      ]
     },
     "metadata": {},
     "output_type": "display_data"
    },
    {
     "data": {
      "image/png": "[encoded data removed]",
      "text/plain": [
       "<Figure size 432x288 with 1 Axes>"
      ]
     },
     "metadata": {},
     "output_type": "display_data"
    }
   ],
   "source": [
    "plt.plot(history_4.history['acc'])\n",
    "plt.plot(history_4.history['val_acc'])\n",
    "plt.title('model accuracy')\n",
    "plt.ylabel('accuracy')\n",
    "plt.xlabel('epoch')\n",
    "plt.legend(['train', 'validation'], loc='upper left')\n",
    "plt.show()\n",
    "\n",
    "plt.plot(history_4.history['loss'])\n",
    "plt.plot(history_4.history['val_loss'])\n",
    "plt.title('model loss')\n",
    "plt.ylabel('loss')\n",
    "plt.xlabel('epoch')\n",
    "plt.legend(['train', 'validation'], loc='upper left')\n",
    "plt.show()"
   ]
  },
  {
   "cell_type": "code",
   "execution_count": 37,
   "metadata": {},
   "outputs": [
    {
     "data": {
      "text/plain": [
       "0.8586072817249911"
      ]
     },
     "execution_count": 37,
     "metadata": {},
     "output_type": "execute_result"
    }
   ],
   "source": [
    "y_hat_4 = model_4.predict(sst2_X_test)\n",
    "\n",
    "accuracy_score(sst2_y_test, list(map(lambda v: v > 0.5, y_hat_4)))"
   ]
  },
  {
   "cell_type": "code",
   "execution_count": 38,
   "metadata": {},
   "outputs": [
    {
     "data": {
      "text/plain": [
       "array([[1170,  240],\n",
       "       [ 160, 1259]], dtype=int64)"
      ]
     },
     "execution_count": 38,
     "metadata": {},
     "output_type": "execute_result"
    }
   ],
   "source": [
    "confusion_matrix(sst2_y_test, list(map(lambda v: v > 0.5, y_hat_4)))"
   ]
  },
  {
   "cell_type": "markdown",
   "metadata": {},
   "source": [
    "# Result"
   ]
  },
  {
   "cell_type": "code",
   "execution_count": 39,
   "metadata": {},
   "outputs": [
    {
     "name": "stdout",
     "output_type": "stream",
     "text": [
      "CNN random       : 0.4473981900452489\n",
      "CNN static       : 0.43721719457013575\n",
      "CNN trainable    : 0.5115950226244343\n",
      "Binary trainable : 0.8586072817249911\n"
     ]
    }
   ],
   "source": [
    "print(\"CNN random       : \" + str(accuracy_score(list(map(lambda x: np.argmax(x), y_test)), list(map(lambda x: np.argmax(x), y_hat)))))\n",
    "print(\"CNN static       : \" + str(accuracy_score(list(map(lambda x: np.argmax(x), y_test)), list(map(lambda x: np.argmax(x), y_hat_2)))))\n",
    "print(\"CNN trainable    : \" + str(accuracy_score(list(map(lambda x: np.argmax(x), y_test)), list(map(lambda x: np.argmax(x), y_hat_3)))))\n",
    "print(\"Binary trainable : \" + str(accuracy_score(sst2_y_test, list(map(lambda v: v > 0.5, y_hat_4)))))"
   ]
  },
  {
   "cell_type": "code",
   "execution_count": null,
   "metadata": {},
   "outputs": [],
   "source": []
  }
 ],
 "metadata": {
  "kernelspec": {
   "display_name": "Python 3",
   "language": "python",
   "name": "python3"
  },
  "language_info": {
   "codemirror_mode": {
    "name": "ipython",
    "version": 3
   },
   "file_extension": ".py",
   "mimetype": "text/x-python",
   "name": "python",
   "nbconvert_exporter": "python",
   "pygments_lexer": "ipython3",
   "version": "3.6.5"
  }
 },
 "nbformat": 4,
 "nbformat_minor": 2
}
